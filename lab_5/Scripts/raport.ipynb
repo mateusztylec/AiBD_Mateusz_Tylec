{
 "cells": [
  {
   "cell_type": "code",
   "execution_count": 4,
   "metadata": {},
   "outputs": [
    {
     "name": "stdout",
     "output_type": "stream",
     "text": [
      "                              0      1       2      3       4       5      6   \\\n",
      "0          MX000017004195504TMAX    310       I    310       I     310      I   \n",
      "1          MX000017004195504TMIN    150       I    150       I     160      I   \n",
      "2          MX000017004195504PRCP      0       I      0       I       0      I   \n",
      "3          MX000017004195505TMAX    310       I    310       I     310      I   \n",
      "4          MX000017004195505TMIN    200       I    160       I     160      I   \n",
      "...                          ...    ...     ...    ...     ...     ...    ...   \n",
      "1709  MX000017004201103TMIN-9999  -9999   -9999  -9999     148  S-9999  -9999   \n",
      "1710       MX000017004201103PRCP      0  S-9999      0       S       0      S   \n",
      "1711  MX000017004201104TMAX-9999    350  S-9999  -9999   -9999   -9999  -9999   \n",
      "1712  MX000017004201104TMIN-9999    168  S-9999  -9999   -9999   -9999  -9999   \n",
      "1713       MX000017004201104PRCP      0       S      0  S-9999   -9999      0   \n",
      "\n",
      "         7       8       9   ...    53    54    55    56    57    58    59  \\\n",
      "0       320       I     330  ...   330     I   340     I   330     I   320   \n",
      "1       150       I     160  ...   190     I   170     I   180     I   160   \n",
      "2         0       I       0  ...     0     I     0     I     0     I     6   \n",
      "3       300       I     300  ...   310     I   320     I   310     I   300   \n",
      "4       150       I     150  ...   160     I   150     I   170     I   150   \n",
      "...     ...     ...     ...  ...   ...   ...   ...   ...   ...   ...   ...   \n",
      "1709  -9999   -9999     127  ...  None  None  None  None  None  None  None   \n",
      "1710      0  S-9999       0  ...  None  None  None  None  None  None  None   \n",
      "1711  -9999   -9999   -9999  ...  None  None  None  None  None  None  None   \n",
      "1712  -9999   -9999   -9999  ...  None  None  None  None  None  None  None   \n",
      "1713      S       0  S-9999  ...  None  None  None  None  None  None  None   \n",
      "\n",
      "          60    61    62  \n",
      "0     I-9999  None  None  \n",
      "1     I-9999  None  None  \n",
      "2     I-9999  None  None  \n",
      "3          I   290     I  \n",
      "4          I   160     I  \n",
      "...      ...   ...   ...  \n",
      "1709    None  None  None  \n",
      "1710    None  None  None  \n",
      "1711    None  None  None  \n",
      "1712    None  None  None  \n",
      "1713    None  None  None  \n",
      "\n",
      "[1714 rows x 63 columns]\n"
     ]
    }
   ],
   "source": [
    "import pandas as pd\n",
    "\n",
    "# df = pd.read_csv('../Datasets/weather.txt', delim_whitespace=True, header=None)\n",
    "# print(df)\n",
    "\n",
    "# df2 = pd.read_table('../Datasets/weather.txt', delimiter = ' ', header=None)\n",
    "# print(\"1\")\n",
    "file_lst = []\n",
    "with open('../Datasets/weather.txt', 'r') as file:\n",
    "    for line in file:\n",
    "        file_lst.append(line.split())\n",
    "# print(file_lst)\n",
    "df = pd.DataFrame(data=file_lst)\n",
    "print(df)\n",
    "\n",
    "df.to_csv(\"../AnalysysData/weather.csv\")"
   ]
  },
  {
   "cell_type": "code",
   "execution_count": 5,
   "metadata": {},
   "outputs": [],
   "source": [
    "mixed_data = df[0]\n",
    "station_id = []\n",
    "year = []\n",
    "month = []\n",
    "data_variable = []\n",
    "for row in mixed_data:\n",
    "    station_id.append(row[:11])\n",
    "    year.append(row[11:15])\n",
    "    month.append(row[15:17])\n",
    "    data_variable.append(row[17:])\n",
    "\n",
    "df2 = pd.DataFrame(data={'station_id': station_id, 'year': year, 'month': month, 'data_variable': data_variable})\n",
    "df3 = pd.concat([df2, df], axis=1)\n",
    "\n",
    "df4 = df3.loc[df3['year']=='2010']\n",
    "\n",
    "df4.to_csv(\"../AnalysysData/weather2010.csv\")"
   ]
  },
  {
   "cell_type": "code",
   "execution_count": 6,
   "metadata": {},
   "outputs": [],
   "source": [
    "df5 = df4.iloc[:15]\n",
    "df5.pop(0)\n",
    "\n",
    "for i in range(5):\n",
    "    df5.iloc[3*i:3*i+3].to_csv(f\"../Outputs/weather_mounth_{i}.csv\")\n",
    "\n"
   ]
  }
 ],
 "metadata": {
  "kernelspec": {
   "display_name": "Python 3.10.6 ('mateusztylec')",
   "language": "python",
   "name": "python3"
  },
  "language_info": {
   "codemirror_mode": {
    "name": "ipython",
    "version": 3
   },
   "file_extension": ".py",
   "mimetype": "text/x-python",
   "name": "python",
   "nbconvert_exporter": "python",
   "pygments_lexer": "ipython3",
   "version": "3.10.6"
  },
  "orig_nbformat": 4,
  "vscode": {
   "interpreter": {
    "hash": "821343d07cf9cbb979b37a9254a09911b75347521aed93f19637bbab5024ef8a"
   }
  }
 },
 "nbformat": 4,
 "nbformat_minor": 2
}
