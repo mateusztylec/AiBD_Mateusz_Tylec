{
 "cells": [
  {
   "cell_type": "code",
   "execution_count": 16,
   "metadata": {},
   "outputs": [],
   "source": [
    "from settings import settings\n",
    "from sqlalchemy import create_engine\n",
    "\n",
    "db_string = f\"postgresql://{settings.login}:{settings.haslo}@{settings.host}:{settings.port}/{settings.nazwa_bazy}\"\n",
    "\n",
    "db = create_engine(db_string)\n",
    "\n",
    "connection_sqlalchemy = db.connect()\n",
    "\n",
    "result_set = db.execute(\"SELECT * FROM city\")  \n"
   ]
  },
  {
   "cell_type": "code",
   "execution_count": 17,
   "metadata": {},
   "outputs": [
    {
     "name": "stdout",
     "output_type": "stream",
     "text": [
      "[(16,)]\n"
     ]
    }
   ],
   "source": [
    "# Ile kategorii filmów mamy w wypożyczalni?\n",
    "result = db.execute(\"SELECT COUNT(*) FROM category\")\n",
    "print(result.all())\n"
   ]
  },
  {
   "cell_type": "code",
   "execution_count": 18,
   "metadata": {},
   "outputs": [
    {
     "name": "stdout",
     "output_type": "stream",
     "text": [
      "[('Action',), ('Animation',), ('Children',), ('Classics',), ('Comedy',), ('Documentary',), ('Drama',), ('Family',), ('Foreign',), ('Games',), ('Horror',), ('Music',), ('New',), ('Sci-Fi',), ('Sports',), ('Travel',)]\n"
     ]
    }
   ],
   "source": [
    "# Wyświetl listę kategorii w kolejności alfabetycznej.\n",
    "result = db.execute(\"SELECT name FROM category ORDER BY name ASC\")\n",
    "print(result.all())"
   ]
  },
  {
   "cell_type": "code",
   "execution_count": 19,
   "metadata": {},
   "outputs": [
    {
     "name": "stdout",
     "output_type": "stream",
     "text": [
      "[('Chamber Italian', 2006), ('Chamber Italian', 2006)]\n"
     ]
    }
   ],
   "source": [
    "# Znajdź najstarszy i najmłodszy film do wypożyczenia.\n",
    "result = db.execute(\"(SELECT title, release_year FROM film ORDER BY release_year ASC LIMIT 1) \\\n",
    "    UNION ALL (SELECT title, release_year FROM film ORDER BY release_year DESC LIMIT 1)\")\n",
    "print(result.all())"
   ]
  },
  {
   "cell_type": "code",
   "execution_count": 20,
   "metadata": {},
   "outputs": [
    {
     "name": "stdout",
     "output_type": "stream",
     "text": [
      "[(6709,)]\n"
     ]
    }
   ],
   "source": [
    "# Ile wypożyczeń odbyło się między 2005-07-01 a 2005-08-01?\n",
    "result = db.execute(\"SELECT COUNT(*) FROM rental WHERE rental_date BETWEEN '2005-07-01' AND '2005-08-01'\")\n",
    "print(result.all())\n"
   ]
  },
  {
   "cell_type": "code",
   "execution_count": 21,
   "metadata": {},
   "outputs": [
    {
     "data": {
      "text/plain": [
       "[(0,)]"
      ]
     },
     "execution_count": 21,
     "metadata": {},
     "output_type": "execute_result"
    }
   ],
   "source": [
    "# Ile wypożyczeń odbyło się między 2010-01-01 a 2011-02-01?\n",
    "result = db.execute(\"SELECT COUNT(*) FROM rental WHERE rental_date BETWEEN '2010-01-01' AND '2011-02-01'\")\n",
    "result.all()"
   ]
  },
  {
   "cell_type": "code",
   "execution_count": 22,
   "metadata": {},
   "outputs": [
    {
     "data": {
      "text/plain": [
       "[(Decimal('11.99'),)]"
      ]
     },
     "execution_count": 22,
     "metadata": {},
     "output_type": "execute_result"
    }
   ],
   "source": [
    "# Znajdź największą płatność wypożyczenia.\n",
    "result = db.execute(\"SELECT amount FROM payment ORDER BY amount DESC LIMIT 1\")\n",
    "result.all()"
   ]
  },
  {
   "cell_type": "code",
   "execution_count": 23,
   "metadata": {},
   "outputs": [
    {
     "data": {
      "text/plain": [
       "[('Sonia', 'Gregory', 'Nigeria'),\n",
       " ('Brian', 'Wyman', 'Poland'),\n",
       " ('Sidney', 'Burleson', 'Poland'),\n",
       " ('Rodney', 'Moeller', 'Nigeria'),\n",
       " ('Stephen', 'Qualls', 'Bangladesh'),\n",
       " ('Velma', 'Lucas', 'Nigeria'),\n",
       " ('Marilyn', 'Ross', 'Nigeria'),\n",
       " ('Elsie', 'Kelley', 'Nigeria'),\n",
       " ('Gladys', 'Hamilton', 'Nigeria'),\n",
       " ('Frank', 'Waggoner', 'Bangladesh'),\n",
       " ('Marjorie', 'Tucker', 'Poland'),\n",
       " ('Carol', 'Garcia', 'Nigeria'),\n",
       " ('Leah', 'Curtis', 'Poland'),\n",
       " ('Ruben', 'Geary', 'Poland'),\n",
       " ('Olga', 'Jimenez', 'Nigeria'),\n",
       " ('Bertha', 'Ferguson', 'Nigeria'),\n",
       " ('Tracey', 'Barrett', 'Nigeria'),\n",
       " ('Jo', 'Fowler', 'Nigeria'),\n",
       " ('Johnnie', 'Chisholm', 'Poland'),\n",
       " ('Wallace', 'Slone', 'Nigeria'),\n",
       " ('Michelle', 'Clark', 'Bangladesh'),\n",
       " ('Russell', 'Brinson', 'Poland'),\n",
       " ('Jimmie', 'Eggleston', 'Poland'),\n",
       " ('Constance', 'Reid', 'Nigeria')]"
      ]
     },
     "execution_count": 23,
     "metadata": {},
     "output_type": "execute_result"
    }
   ],
   "source": [
    "# Znajdź wszystkich klientów z Polski, Nigerii lub Bangladeszu.\n",
    "result = db.execute(\"SELECT customer.first_name, customer.last_name, country.country FROM customer \\\n",
    "    LEFT JOIN address ON customer.address_id=address.address_id \\\n",
    "    LEFT JOIN city ON address.city_id=city.city_id \\\n",
    "    LEFT JOIN country ON city.country_id=country.country_id \\\n",
    "    WHERE country.country = 'Nigeria' OR country.country = 'Bangladesh' OR country.country = 'Poland'\")\n",
    "result.all()"
   ]
  },
  {
   "cell_type": "code",
   "execution_count": 24,
   "metadata": {},
   "outputs": [
    {
     "data": {
      "text/plain": [
       "[('Mike', 'Hillyer', 'Canada', 'Lethbridge', '23 Workhaven Lane'),\n",
       " ('Jon', 'Stephens', 'Australia', 'Woodridge', '1411 Lillydale Drive')]"
      ]
     },
     "execution_count": 24,
     "metadata": {},
     "output_type": "execute_result"
    }
   ],
   "source": [
    "# Gdzie mieszkają członkowie personelu?\n",
    "result = db.execute(\"SELECT staff.first_name, staff.last_name, country.country, city.city, address.address FROM staff \\\n",
    "    LEFT JOIN address ON staff.address_id=address.address_id \\\n",
    "    LEFT JOIN city ON address.city_id=city.city_id \\\n",
    "    LEFT JOIN country ON city.country_id=country.country_id\")\n",
    "result.all()\n"
   ]
  },
  {
   "cell_type": "code",
   "execution_count": 25,
   "metadata": {},
   "outputs": [
    {
     "data": {
      "text/plain": [
       "[(2,)]"
      ]
     },
     "execution_count": 25,
     "metadata": {},
     "output_type": "execute_result"
    }
   ],
   "source": [
    "# Ilu pracowników mieszka w Argentynie lub Hiszpanii?\n",
    "result = db.execute(\"SELECT COUNT(*) FROM staff LEFT JOIN address ON staff.address_id=address.address_id\")\n",
    "result.all()"
   ]
  },
  {
   "cell_type": "code",
   "execution_count": 26,
   "metadata": {},
   "outputs": [
    {
     "data": {
      "text/plain": [
       "[('Sports',),\n",
       " ('Classics',),\n",
       " ('New',),\n",
       " ('Family',),\n",
       " ('Comedy',),\n",
       " ('Animation',),\n",
       " ('Travel',),\n",
       " ('Music',),\n",
       " ('Drama',),\n",
       " ('Horror',),\n",
       " ('Sci-Fi',),\n",
       " ('Games',),\n",
       " ('Documentary',),\n",
       " ('Foreign',),\n",
       " ('Action',),\n",
       " ('Children',)]"
      ]
     },
     "execution_count": 26,
     "metadata": {},
     "output_type": "execute_result"
    }
   ],
   "source": [
    "# Jakie kategorie filmów zostały wypożyczone przez klientów?\n",
    "result = db.execute(\"SELECT DISTINCT category.name FROM category \\\n",
    "    JOIN film_category USING(category_id)\\\n",
    "    JOIN film ON film_category.film_id=film.film_id\\\n",
    "    JOIN inventory ON inventory.film_id=film.film_id\\\n",
    "    JOIN rental ON rental.inventory_id=inventory.inventory_id\\\n",
    "    JOIN customer ON customer.customer_id=rental.customer_id\")\n",
    "result.all()"
   ]
  },
  {
   "cell_type": "code",
   "execution_count": 27,
   "metadata": {},
   "outputs": [
    {
     "data": {
      "text/plain": [
       "[('Action',),\n",
       " ('Animation',),\n",
       " ('Children',),\n",
       " ('Classics',),\n",
       " ('Comedy',),\n",
       " ('Documentary',),\n",
       " ('Drama',),\n",
       " ('Family',),\n",
       " ('Foreign',),\n",
       " ('Games',),\n",
       " ('Horror',),\n",
       " ('Music',),\n",
       " ('New',),\n",
       " ('Sci-Fi',),\n",
       " ('Sports',),\n",
       " ('Travel',)]"
      ]
     },
     "execution_count": 27,
     "metadata": {},
     "output_type": "execute_result"
    }
   ],
   "source": [
    "# Znajdź wszystkie kategorie filmów wypożyczonych w Ameryce.\n",
    "result = db.execute(\"SELECT DISTINCT category.name FROM category \\\n",
    "    INNER JOIN film_category USING(category_id) \\\n",
    "    INNER JOIN film USING(film_id)\\\n",
    "    INNER JOIN inventory USING(film_id)\\\n",
    "    INNER JOIN rental USING(inventory_id)\\\n",
    "    INNER JOIN customer USING(customer_id)\\\n",
    "    INNER JOIN address USING(address_id)\\\n",
    "    INNER JOIN city USING(city_id)\\\n",
    "    INNER JOIN country USING(country_id)\\\n",
    "    WHERE country = 'United States'\")\n",
    "result.all()"
   ]
  },
  {
   "cell_type": "code",
   "execution_count": 28,
   "metadata": {},
   "outputs": [
    {
     "name": "stdout",
     "output_type": "stream",
     "text": [
      "69\n"
     ]
    }
   ],
   "source": [
    "# Znajdź wszystkie tytuły filmów, w których grał: Olympia Pfeiffer lub Julia Zellweger lub Ellen Presley\n",
    "result = db.execute(\"SELECT film.title, actor.first_name, actor.last_name FROM film \\\n",
    "    RIGHT JOIN film_actor ON film_actor.film_id=film.film_id \\\n",
    "    RIGHT JOIN actor ON actor.actor_id=film_actor.actor_id \\\n",
    "    WHERE actor.first_name='Olympia' AND actor.last_name='Pfeiffer' \\\n",
    "    OR actor.first_name='Julia' AND actor.last_name='Zellweger' \\\n",
    "    OR actor.first_name='Ellen' AND actor.last_name='Presley'\")\n",
    "print(len(result.all()))"
   ]
  }
 ],
 "metadata": {
  "kernelspec": {
   "display_name": "Python 3.10.6 ('mateusztylec')",
   "language": "python",
   "name": "python3"
  },
  "language_info": {
   "codemirror_mode": {
    "name": "ipython",
    "version": 3
   },
   "file_extension": ".py",
   "mimetype": "text/x-python",
   "name": "python",
   "nbconvert_exporter": "python",
   "pygments_lexer": "ipython3",
   "version": "3.10.6"
  },
  "orig_nbformat": 4,
  "vscode": {
   "interpreter": {
    "hash": "821343d07cf9cbb979b37a9254a09911b75347521aed93f19637bbab5024ef8a"
   }
  }
 },
 "nbformat": 4,
 "nbformat_minor": 2
}
